{
 "cells": [
  {
   "cell_type": "code",
   "execution_count": 1,
   "id": "69b5709d",
   "metadata": {},
   "outputs": [],
   "source": [
    "#stuff\n",
    "import datetime\n",
    "from sklearn import preprocessing\n",
    "import matplotlib.pyplot as plt\n",
    "import seaborn as sns\n",
    "\n",
    "# for data handling\n",
    "import pandas as pd\n",
    "import numpy as np\n",
    "\n",
    "# train-test split\n",
    "from sklearn.model_selection import train_test_split\n",
    "\n",
    "# loss functions for today\n",
    "from sklearn.metrics import mean_squared_error\n",
    "from sklearn.metrics import mean_absolute_error\n",
    "\n",
    "# stuff for evaluating classifiers\n",
    "from sklearn.metrics import classification_report\n",
    "from sklearn.metrics import confusion_matrix, ConfusionMatrixDisplay\n",
    "import matplotlib.pyplot as plt # for displaying a pretty confusion matrix\n",
    "\n",
    "# dummy models for comparison\n",
    "from sklearn.dummy import DummyClassifier\n",
    "\n",
    "# classification models\n",
    "from sklearn.linear_model import LogisticRegression\n",
    "from sklearn.neighbors import KNeighborsClassifier\n",
    "from sklearn.ensemble import RandomForestClassifier\n",
    "\n",
    "from sklearn.model_selection import GridSearchCV\n",
    "from sklearn.model_selection import cross_val_score"
   ]
  },
  {
   "cell_type": "code",
   "execution_count": 2,
   "id": "76e2b66b",
   "metadata": {},
   "outputs": [
    {
     "name": "stdout",
     "output_type": "stream",
     "text": [
      "Requirement already satisfied: tabulate in c:\\users\\myname\\anaconda3\\lib\\site-packages (0.9.0)\n",
      "Note: you may need to restart the kernel to use updated packages.\n"
     ]
    }
   ],
   "source": [
    "pip install tabulate"
   ]
  },
  {
   "cell_type": "code",
   "execution_count": 3,
   "id": "a91f32ac",
   "metadata": {},
   "outputs": [],
   "source": [
    "import tabulate"
   ]
  },
  {
   "cell_type": "code",
   "execution_count": 4,
   "id": "a7de1f8f",
   "metadata": {},
   "outputs": [],
   "source": [
    "bankdf=pd.read_csv(\"bank-additional-full.csv\", sep=';')"
   ]
  },
  {
   "cell_type": "code",
   "execution_count": 5,
   "id": "3f5b8a20",
   "metadata": {},
   "outputs": [
    {
     "data": {
      "text/html": [
       "<div>\n",
       "<style scoped>\n",
       "    .dataframe tbody tr th:only-of-type {\n",
       "        vertical-align: middle;\n",
       "    }\n",
       "\n",
       "    .dataframe tbody tr th {\n",
       "        vertical-align: top;\n",
       "    }\n",
       "\n",
       "    .dataframe thead th {\n",
       "        text-align: right;\n",
       "    }\n",
       "</style>\n",
       "<table border=\"1\" class=\"dataframe\">\n",
       "  <thead>\n",
       "    <tr style=\"text-align: right;\">\n",
       "      <th></th>\n",
       "      <th>age</th>\n",
       "      <th>job</th>\n",
       "      <th>marital</th>\n",
       "      <th>education</th>\n",
       "      <th>default</th>\n",
       "      <th>housing</th>\n",
       "      <th>loan</th>\n",
       "      <th>contact</th>\n",
       "      <th>month</th>\n",
       "      <th>day_of_week</th>\n",
       "      <th>...</th>\n",
       "      <th>campaign</th>\n",
       "      <th>pdays</th>\n",
       "      <th>previous</th>\n",
       "      <th>poutcome</th>\n",
       "      <th>emp.var.rate</th>\n",
       "      <th>cons.price.idx</th>\n",
       "      <th>cons.conf.idx</th>\n",
       "      <th>euribor3m</th>\n",
       "      <th>nr.employed</th>\n",
       "      <th>y</th>\n",
       "    </tr>\n",
       "  </thead>\n",
       "  <tbody>\n",
       "    <tr>\n",
       "      <th>0</th>\n",
       "      <td>56</td>\n",
       "      <td>housemaid</td>\n",
       "      <td>married</td>\n",
       "      <td>basic.4y</td>\n",
       "      <td>no</td>\n",
       "      <td>no</td>\n",
       "      <td>no</td>\n",
       "      <td>telephone</td>\n",
       "      <td>may</td>\n",
       "      <td>mon</td>\n",
       "      <td>...</td>\n",
       "      <td>1</td>\n",
       "      <td>999</td>\n",
       "      <td>0</td>\n",
       "      <td>nonexistent</td>\n",
       "      <td>1.1</td>\n",
       "      <td>93.994</td>\n",
       "      <td>-36.4</td>\n",
       "      <td>4.857</td>\n",
       "      <td>5191.0</td>\n",
       "      <td>no</td>\n",
       "    </tr>\n",
       "    <tr>\n",
       "      <th>1</th>\n",
       "      <td>57</td>\n",
       "      <td>services</td>\n",
       "      <td>married</td>\n",
       "      <td>high.school</td>\n",
       "      <td>unknown</td>\n",
       "      <td>no</td>\n",
       "      <td>no</td>\n",
       "      <td>telephone</td>\n",
       "      <td>may</td>\n",
       "      <td>mon</td>\n",
       "      <td>...</td>\n",
       "      <td>1</td>\n",
       "      <td>999</td>\n",
       "      <td>0</td>\n",
       "      <td>nonexistent</td>\n",
       "      <td>1.1</td>\n",
       "      <td>93.994</td>\n",
       "      <td>-36.4</td>\n",
       "      <td>4.857</td>\n",
       "      <td>5191.0</td>\n",
       "      <td>no</td>\n",
       "    </tr>\n",
       "    <tr>\n",
       "      <th>2</th>\n",
       "      <td>37</td>\n",
       "      <td>services</td>\n",
       "      <td>married</td>\n",
       "      <td>high.school</td>\n",
       "      <td>no</td>\n",
       "      <td>yes</td>\n",
       "      <td>no</td>\n",
       "      <td>telephone</td>\n",
       "      <td>may</td>\n",
       "      <td>mon</td>\n",
       "      <td>...</td>\n",
       "      <td>1</td>\n",
       "      <td>999</td>\n",
       "      <td>0</td>\n",
       "      <td>nonexistent</td>\n",
       "      <td>1.1</td>\n",
       "      <td>93.994</td>\n",
       "      <td>-36.4</td>\n",
       "      <td>4.857</td>\n",
       "      <td>5191.0</td>\n",
       "      <td>no</td>\n",
       "    </tr>\n",
       "    <tr>\n",
       "      <th>3</th>\n",
       "      <td>40</td>\n",
       "      <td>admin.</td>\n",
       "      <td>married</td>\n",
       "      <td>basic.6y</td>\n",
       "      <td>no</td>\n",
       "      <td>no</td>\n",
       "      <td>no</td>\n",
       "      <td>telephone</td>\n",
       "      <td>may</td>\n",
       "      <td>mon</td>\n",
       "      <td>...</td>\n",
       "      <td>1</td>\n",
       "      <td>999</td>\n",
       "      <td>0</td>\n",
       "      <td>nonexistent</td>\n",
       "      <td>1.1</td>\n",
       "      <td>93.994</td>\n",
       "      <td>-36.4</td>\n",
       "      <td>4.857</td>\n",
       "      <td>5191.0</td>\n",
       "      <td>no</td>\n",
       "    </tr>\n",
       "    <tr>\n",
       "      <th>4</th>\n",
       "      <td>56</td>\n",
       "      <td>services</td>\n",
       "      <td>married</td>\n",
       "      <td>high.school</td>\n",
       "      <td>no</td>\n",
       "      <td>no</td>\n",
       "      <td>yes</td>\n",
       "      <td>telephone</td>\n",
       "      <td>may</td>\n",
       "      <td>mon</td>\n",
       "      <td>...</td>\n",
       "      <td>1</td>\n",
       "      <td>999</td>\n",
       "      <td>0</td>\n",
       "      <td>nonexistent</td>\n",
       "      <td>1.1</td>\n",
       "      <td>93.994</td>\n",
       "      <td>-36.4</td>\n",
       "      <td>4.857</td>\n",
       "      <td>5191.0</td>\n",
       "      <td>no</td>\n",
       "    </tr>\n",
       "  </tbody>\n",
       "</table>\n",
       "<p>5 rows × 21 columns</p>\n",
       "</div>"
      ],
      "text/plain": [
       "   age        job  marital    education  default housing loan    contact  \\\n",
       "0   56  housemaid  married     basic.4y       no      no   no  telephone   \n",
       "1   57   services  married  high.school  unknown      no   no  telephone   \n",
       "2   37   services  married  high.school       no     yes   no  telephone   \n",
       "3   40     admin.  married     basic.6y       no      no   no  telephone   \n",
       "4   56   services  married  high.school       no      no  yes  telephone   \n",
       "\n",
       "  month day_of_week  ...  campaign  pdays  previous     poutcome emp.var.rate  \\\n",
       "0   may         mon  ...         1    999         0  nonexistent          1.1   \n",
       "1   may         mon  ...         1    999         0  nonexistent          1.1   \n",
       "2   may         mon  ...         1    999         0  nonexistent          1.1   \n",
       "3   may         mon  ...         1    999         0  nonexistent          1.1   \n",
       "4   may         mon  ...         1    999         0  nonexistent          1.1   \n",
       "\n",
       "   cons.price.idx  cons.conf.idx  euribor3m  nr.employed   y  \n",
       "0          93.994          -36.4      4.857       5191.0  no  \n",
       "1          93.994          -36.4      4.857       5191.0  no  \n",
       "2          93.994          -36.4      4.857       5191.0  no  \n",
       "3          93.994          -36.4      4.857       5191.0  no  \n",
       "4          93.994          -36.4      4.857       5191.0  no  \n",
       "\n",
       "[5 rows x 21 columns]"
      ]
     },
     "execution_count": 5,
     "metadata": {},
     "output_type": "execute_result"
    }
   ],
   "source": [
    "bankdf.head()"
   ]
  },
  {
   "cell_type": "code",
   "execution_count": 6,
   "id": "63057dc5",
   "metadata": {},
   "outputs": [],
   "source": [
    "# CREATION OF YEAR VARIABLE\n",
    "\n",
    "nemployed = bankdf['nr.employed']\n",
    "\n",
    "unique, index = np.unique(nemployed, return_index=True) # [5191. , 5228.1, 5195.8, 5176.3, 5099.1, 5076.2, 5017.5, 5023.5, 5008.7, 4991.6, 4963.6]\n",
    "\n",
    "# 2008: 5191. , 5228.1, 5195.8\n",
    "# 2009: 5176.3, 5099.1, 5076.2, 5017.5\n",
    "# 2010: 5023.5, 5008.7, 4991.6, 4963.6\n",
    "\n",
    "year_df = {'year':['2008','2008','2008','2009','2009','2009','2009','2010','2010','2010','2010'], \n",
    "           'nr.employed':[5191. , 5228.1, 5195.8, 5176.3, 5099.1, 5076.2, 5017.5, 5023.5, 5008.7, 4991.6, 4963.6]}\n",
    "year_df = pd.DataFrame.from_dict(year_df)\n",
    "\n",
    "bankdf = bankdf.merge(year_df, on='nr.employed', how='left')"
   ]
  },
  {
   "cell_type": "code",
   "execution_count": 7,
   "id": "4f4606f8",
   "metadata": {},
   "outputs": [],
   "source": [
    "# Creating a function to convert the month abbrevuation in number\n",
    "\n",
    "bankdf[\"month_name\"] = bankdf[\"month\"]\n",
    "\n",
    "def convert_month(df):\n",
    "    df['month'] = [int(datetime.datetime.strptime(obv, '%b').month) for obv in df['month_name']]\n",
    "    df['year'] = [int(obv) for obv in df['year']]\n",
    "convert_month(bankdf)"
   ]
  },
  {
   "cell_type": "markdown",
   "id": "b9cc0dc8",
   "metadata": {},
   "source": [
    "## Preprocessing"
   ]
  },
  {
   "cell_type": "code",
   "execution_count": 8,
   "id": "8606c27a",
   "metadata": {},
   "outputs": [],
   "source": [
    "bankdf[\"day\"] = int(1)\n",
    "bankdf['date']=pd.to_datetime(bankdf[['year','month','day']])"
   ]
  },
  {
   "cell_type": "code",
   "execution_count": 9,
   "id": "fff59af1",
   "metadata": {},
   "outputs": [
    {
     "name": "stdout",
     "output_type": "stream",
     "text": [
      "\n",
      "job\n",
      "|               |   job |\n",
      "|:--------------|------:|\n",
      "| admin.        | 10422 |\n",
      "| blue-collar   |  9254 |\n",
      "| technician    |  6743 |\n",
      "| services      |  3969 |\n",
      "| management    |  2924 |\n",
      "| retired       |  1720 |\n",
      "| entrepreneur  |  1456 |\n",
      "| self-employed |  1421 |\n",
      "| housemaid     |  1060 |\n",
      "| unemployed    |  1014 |\n",
      "| student       |   875 |\n",
      "| unknown       |   330 |\n",
      "\n",
      "marital\n",
      "|          |   marital |\n",
      "|:---------|----------:|\n",
      "| married  |     24928 |\n",
      "| single   |     11568 |\n",
      "| divorced |      4612 |\n",
      "| unknown  |        80 |\n",
      "\n",
      "education\n",
      "|                     |   education |\n",
      "|:--------------------|------------:|\n",
      "| university.degree   |       12168 |\n",
      "| high.school         |        9515 |\n",
      "| basic.9y            |        6045 |\n",
      "| professional.course |        5243 |\n",
      "| basic.4y            |        4176 |\n",
      "| basic.6y            |        2292 |\n",
      "| unknown             |        1731 |\n",
      "| illiterate          |          18 |\n",
      "\n",
      "default\n",
      "|         |   default |\n",
      "|:--------|----------:|\n",
      "| no      |     32588 |\n",
      "| unknown |      8597 |\n",
      "| yes     |         3 |\n",
      "\n",
      "housing\n",
      "|         |   housing |\n",
      "|:--------|----------:|\n",
      "| yes     |     21576 |\n",
      "| no      |     18622 |\n",
      "| unknown |       990 |\n",
      "\n",
      "loan\n",
      "|         |   loan |\n",
      "|:--------|-------:|\n",
      "| no      |  33950 |\n",
      "| yes     |   6248 |\n",
      "| unknown |    990 |\n",
      "\n",
      "contact\n",
      "|           |   contact |\n",
      "|:----------|----------:|\n",
      "| cellular  |     26144 |\n",
      "| telephone |     15044 |\n",
      "\n",
      "day_of_week\n",
      "|     |   day_of_week |\n",
      "|:----|--------------:|\n",
      "| thu |          8623 |\n",
      "| mon |          8514 |\n",
      "| wed |          8134 |\n",
      "| tue |          8090 |\n",
      "| fri |          7827 |\n",
      "\n",
      "poutcome\n",
      "|             |   poutcome |\n",
      "|:------------|-----------:|\n",
      "| nonexistent |      35563 |\n",
      "| failure     |       4252 |\n",
      "| success     |       1373 |\n",
      "\n",
      "y\n",
      "|     |     y |\n",
      "|:----|------:|\n",
      "| no  | 36548 |\n",
      "| yes |  4640 |\n",
      "\n",
      "month_name\n",
      "|     |   month_name |\n",
      "|:----|-------------:|\n",
      "| may |        13769 |\n",
      "| jul |         7174 |\n",
      "| aug |         6178 |\n",
      "| jun |         5318 |\n",
      "| nov |         4101 |\n",
      "| apr |         2632 |\n",
      "| oct |          718 |\n",
      "| sep |          570 |\n",
      "| mar |          546 |\n",
      "| dec |          182 |\n"
     ]
    }
   ],
   "source": [
    "# Unknown count\n",
    "\n",
    "#bankdf.nunique()\n",
    "#bankdf.isnull().sum() # no NAs but there are some classes \"Unknown\", what should we do with them?\n",
    "\n",
    "for column in bankdf.select_dtypes(include=object):\n",
    "     print(\"\\n\" + column)\n",
    "     print(bankdf[column].value_counts().to_markdown())\n",
    "    \n",
    "# job: 330 \n",
    "# marital: 80\n",
    "# education: 1731\n",
    "# default: 8597\n",
    "# housing 990\n",
    "# loan: 990"
   ]
  },
  {
   "cell_type": "code",
   "execution_count": 10,
   "id": "d421c4f0",
   "metadata": {},
   "outputs": [
    {
     "data": {
      "text/plain": [
       "41176"
      ]
     },
     "execution_count": 10,
     "metadata": {},
     "output_type": "execute_result"
    }
   ],
   "source": [
    "bankdf = bankdf.drop_duplicates()\n",
    "len(bankdf)"
   ]
  },
  {
   "cell_type": "code",
   "execution_count": 11,
   "id": "808d5229",
   "metadata": {},
   "outputs": [
    {
     "data": {
      "text/plain": [
       "age               0\n",
       "job               0\n",
       "marital           0\n",
       "education         0\n",
       "default           0\n",
       "housing           0\n",
       "loan              0\n",
       "contact           0\n",
       "month             0\n",
       "day_of_week       0\n",
       "duration          0\n",
       "campaign          0\n",
       "pdays             0\n",
       "previous          0\n",
       "poutcome          0\n",
       "emp.var.rate      0\n",
       "cons.price.idx    0\n",
       "cons.conf.idx     0\n",
       "euribor3m         0\n",
       "nr.employed       0\n",
       "y                 0\n",
       "year              0\n",
       "month_name        0\n",
       "day               0\n",
       "date              0\n",
       "dtype: int64"
      ]
     },
     "execution_count": 11,
     "metadata": {},
     "output_type": "execute_result"
    }
   ],
   "source": [
    "bankdf.isnull().sum()"
   ]
  },
  {
   "cell_type": "code",
   "execution_count": 12,
   "id": "3b56314c",
   "metadata": {},
   "outputs": [],
   "source": [
    "#New Dataframe without unknown values\n",
    "bankdfn = bankdf[(bankdf['default'] != \"unknown\") & (bankdf['job'] != \"unknown\") & (bankdf['marital'] != \"unknown\") & (bankdf['education'] != \"unknown\") & (bankdf['housing'] != \"unknown\") & (bankdf['loan'] != \"unknown\")]"
   ]
  },
  {
   "cell_type": "code",
   "execution_count": 13,
   "id": "a613ae5c",
   "metadata": {},
   "outputs": [
    {
     "data": {
      "text/plain": [
       "30478"
      ]
     },
     "execution_count": 13,
     "metadata": {},
     "output_type": "execute_result"
    }
   ],
   "source": [
    "len(bankdfn)"
   ]
  },
  {
   "cell_type": "code",
   "execution_count": 14,
   "id": "7d6e1996",
   "metadata": {},
   "outputs": [],
   "source": [
    "# If y is yes, then 1 otherwise 0\n",
    "bankdf['y'] = np.where(bankdf['y']=='yes', 1, 0)"
   ]
  },
  {
   "cell_type": "code",
   "execution_count": 15,
   "id": "22cfbd5c",
   "metadata": {},
   "outputs": [
    {
     "name": "stderr",
     "output_type": "stream",
     "text": [
      "C:\\Users\\MyName\\AppData\\Local\\Temp/ipykernel_7484/3668183423.py:2: SettingWithCopyWarning: \n",
      "A value is trying to be set on a copy of a slice from a DataFrame.\n",
      "Try using .loc[row_indexer,col_indexer] = value instead\n",
      "\n",
      "See the caveats in the documentation: https://pandas.pydata.org/pandas-docs/stable/user_guide/indexing.html#returning-a-view-versus-a-copy\n",
      "  bankdfn['y'] = np.where(bankdfn['y']=='yes', 1, 0)\n"
     ]
    }
   ],
   "source": [
    "# If y is yes, then 1 otherwise 0\n",
    "bankdfn['y'] = np.where(bankdfn['y']=='yes', 1, 0)"
   ]
  },
  {
   "cell_type": "code",
   "execution_count": 18,
   "id": "2b513e4a",
   "metadata": {},
   "outputs": [
    {
     "data": {
      "text/plain": [
       "Index(['age', 'month', 'duration', 'campaign', 'pdays', 'previous',\n",
       "       'emp.var.rate', 'cons.price.idx', 'cons.conf.idx', 'euribor3m',\n",
       "       'nr.employed', 'y', 'job_blue-collar', 'job_entrepreneur',\n",
       "       'job_housemaid', 'job_management', 'job_retired', 'job_self-employed',\n",
       "       'job_services', 'job_student', 'job_technician', 'job_unemployed',\n",
       "       'marital_married', 'marital_single', 'education_basic.6y',\n",
       "       'education_basic.9y', 'education_high.school', 'education_illiterate',\n",
       "       'education_professional.course', 'education_university.degree',\n",
       "       'default_yes', 'housing_yes', 'loan_yes', 'contact_telephone',\n",
       "       'day_of_week_mon', 'day_of_week_thu', 'day_of_week_tue',\n",
       "       'day_of_week_wed', 'poutcome_nonexistent', 'poutcome_success'],\n",
       "      dtype='object')"
      ]
     },
     "execution_count": 18,
     "metadata": {},
     "output_type": "execute_result"
    }
   ],
   "source": [
    "# Create Dummy Variables\n",
    "\n",
    "bank_dummies = pd.get_dummies(bankdfn.drop(['month_name', 'date', 'day', 'year'], axis=1), drop_first = True)\n",
    "bank_dummies.columns \n",
    "\n",
    "# dropping year because correlation is too high with the and social features (was created starting from those)\n"
   ]
  },
  {
   "cell_type": "markdown",
   "id": "40494a5d",
   "metadata": {},
   "source": [
    "## Classification "
   ]
  },
  {
   "cell_type": "code",
   "execution_count": 39,
   "id": "dc2f094b",
   "metadata": {},
   "outputs": [],
   "source": [
    "# Standardize X? Why?"
   ]
  },
  {
   "cell_type": "code",
   "execution_count": 19,
   "id": "84913f6e",
   "metadata": {},
   "outputs": [
    {
     "name": "stdout",
     "output_type": "stream",
     "text": [
      "Xtrain (17143, 39) y_train (17143,) X_test X_val (5715, 39) y_val (5715,) X_test (7620, 39) y_test (7620,)\n"
     ]
    }
   ],
   "source": [
    "# Dataset split into test, validation and training set: 20% or 30 test set? Need validation if use CV?\n",
    "\n",
    "X = bank_dummies.drop('y', axis=1)\n",
    "y = bank_dummies[\"y\"]\n",
    "\n",
    "X_train, X_test, y_train, y_test = train_test_split(X, y, random_state=42) # train and test\n",
    "X_train, X_val, y_train, y_val = train_test_split(X_train, y_train, random_state=42) # train and validation\n",
    "\n",
    "print(\"Xtrain\", X_train.shape, \"y_train\", \n",
    "      y_train.shape, \"X_test\",\"X_val\", X_val.shape, \"y_val\", \n",
    "      y_val.shape, \"X_test\", X_test.shape, \"y_test\", y_test.shape) "
   ]
  },
  {
   "cell_type": "code",
   "execution_count": 22,
   "id": "81f90ff4",
   "metadata": {},
   "outputs": [],
   "source": [
    "# L2\n",
    "logr = LogisticRegression(max_iter=100000).fit(X_train,y_train)"
   ]
  },
  {
   "cell_type": "code",
   "execution_count": 28,
   "id": "ed309e14",
   "metadata": {},
   "outputs": [
    {
     "name": "stdout",
     "output_type": "stream",
     "text": [
      "Accuracy on training set: 0.899\n",
      "Accuracy on validation set: 0.906\n",
      "Accuracy on test set: 0.901\n"
     ]
    }
   ],
   "source": [
    "print(\"Accuracy on training set: {:.3f}\".format(logr.score(X_train,y_train))) #  0.9108606557377049\n",
    "print(\"Accuracy on validation set: {:.3f}\".format(logr.score(X_val,y_val))) # 0.9131754705525197\n",
    "print(\"Accuracy on test set: {:.3f}\".format(logr.score(X_test, y_test)))"
   ]
  },
  {
   "cell_type": "code",
   "execution_count": 29,
   "id": "f69d536f",
   "metadata": {},
   "outputs": [
    {
     "data": {
      "text/plain": [
       "array([[ 3.25568231e-03, -4.13133282e-02,  4.39482505e-03,\n",
       "        -4.65775796e-02, -2.02074360e-03, -3.32162498e-01,\n",
       "        -3.38825181e-01,  4.46326864e-01,  4.07519288e-02,\n",
       "        -8.23091041e-02, -8.08898301e-03, -3.32948307e-01,\n",
       "        -8.92684624e-02,  1.99316687e-02, -6.70720790e-02,\n",
       "         1.74200675e-01,  2.49773777e-02, -1.10031094e-01,\n",
       "         1.65787768e-01,  8.29306871e-03,  4.65545852e-02,\n",
       "         4.44467647e-03,  9.13673921e-02, -3.80615725e-02,\n",
       "        -1.03684832e-01, -1.85507016e-02,  1.35953268e-02,\n",
       "         4.18582583e-02,  2.02571910e-01, -1.96598309e-04,\n",
       "         2.26525126e-02, -7.30999826e-02, -5.46558181e-01,\n",
       "        -1.90479778e-01,  6.62481401e-02,  5.24374612e-02,\n",
       "         1.04172034e-01,  3.53591803e-01,  7.77131676e-02]])"
      ]
     },
     "execution_count": 29,
     "metadata": {},
     "output_type": "execute_result"
    }
   ],
   "source": [
    "#print coefficient\n",
    "coefficient = logr.coef_\n",
    "coefficient"
   ]
  },
  {
   "cell_type": "code",
   "execution_count": 37,
   "id": "7ffb0225",
   "metadata": {},
   "outputs": [
    {
     "data": {
      "text/plain": [
       "{'C': array([0.1, 0.2, 0.3, 0.4, 0.5, 0.6, 0.7, 0.8, 0.9, 1. ])}"
      ]
     },
     "execution_count": 37,
     "metadata": {},
     "output_type": "execute_result"
    }
   ],
   "source": [
    "# Alida copy: Interpretation of C in Logistic Regression\n",
    "\n",
    "# Tuning alpha/lambda for Ridge\n",
    "\n",
    "# CAN DO THE SAME WITH LASSO PENALTY\n",
    "\n",
    "# define grid\n",
    "alpha_grid = {\n",
    "    'C':  np.arange(0.1, 1.1, 0.1)\n",
    "}\n",
    "\n",
    "# Set up GridSearchCV \n",
    "grid_search = GridSearchCV(logr, alpha_grid, cv=10, n_jobs=-1)\n",
    "alpha_grid"
   ]
  },
  {
   "cell_type": "code",
   "execution_count": null,
   "id": "bde01171",
   "metadata": {},
   "outputs": [],
   "source": [
    "## DOESNT FINISH\n",
    "\n",
    "# Fit the grid search \n",
    "grid_search.fit(X_train, y_train)\n",
    "\n",
    "# Retrieve and print the scores for each iteration\n",
    "cv_results = grid_search.cv_results_\n",
    "for mean_score, params in zip(cv_results[\"mean_test_score\"], cv_results[\"params\"]):\n",
    "    print(f\"Accuracy score for {params}: {mean_score}\")\n",
    "\n",
    "# Retrieve the best hyperparameters and the corresponding best estimator\n",
    "best_alpha = grid_search.best_params_['C']\n",
    "best_ridge_model = grid_search.best_estimator_\n",
    "\n",
    "# Print the best hyperparameters\n",
    "print(f\"Best Alpha for regularization: {best_alpha}\")"
   ]
  },
  {
   "cell_type": "code",
   "execution_count": null,
   "id": "feaea0a5",
   "metadata": {},
   "outputs": [],
   "source": [
    "# Evaluate the best model on the test data\n",
    "print(f\"Validation Accuracy with best model: {best_model.score(X_val, y_val)}\")"
   ]
  },
  {
   "cell_type": "code",
   "execution_count": null,
   "id": "7a041d73",
   "metadata": {},
   "outputs": [],
   "source": [
    "coefficient = best_model.coef_\n",
    "coefficient"
   ]
  },
  {
   "cell_type": "code",
   "execution_count": 34,
   "id": "3552fc6f",
   "metadata": {},
   "outputs": [],
   "source": [
    "# L1\n",
    "logr2 = LogisticRegression(penalty = \"l1\", solver = \"saga\", max_iter=100000).fit(X_train,y_train)"
   ]
  },
  {
   "cell_type": "code",
   "execution_count": 35,
   "id": "bdf5dbca",
   "metadata": {},
   "outputs": [
    {
     "name": "stdout",
     "output_type": "stream",
     "text": [
      "Accuracy on training set: 0.895\n",
      "Accuracy on validation set: 0.903\n",
      "Accuracy on test set: 0.895\n"
     ]
    }
   ],
   "source": [
    "print(\"Accuracy on training set: {:.3f}\".format(logr2.score(X_train,y_train))) #  0.9108606557377049\n",
    "print(\"Accuracy on validation set: {:.3f}\".format(logr2.score(X_val,y_val))) # 0.9131754705525197\n",
    "print(\"Accuracy on test set: {:.3f}\".format(logr2.score(X_test, y_test)))"
   ]
  },
  {
   "cell_type": "code",
   "execution_count": null,
   "id": "09ca38d2",
   "metadata": {},
   "outputs": [],
   "source": [
    "# copy Alida\n",
    "grid_search = GridSearchCV(logr2, alpha_grid, cv=10, n_jobs=-1)\n",
    "\n",
    "grid_search.fit(X_train, y_train)\n",
    "\n",
    "# Retrieve and print the scores for each iteration\n",
    "cv_results = grid_search.cv_results_\n",
    "for mean_score, params in zip(cv_results[\"mean_test_score\"], cv_results[\"params\"]):\n",
    "    print(f\"Accuracy score for {params}: {mean_score}\")\n",
    "\n",
    "# Retrieve the best hyperparameters and the corresponding best estimator\n",
    "best_alpha = grid_search.best_params_['C']\n",
    "best_lasso_model = grid_search.best_estimator_\n",
    "\n",
    "# Print the best hyperparameters\n",
    "print(f\"Best Alpha for regularization: {best_alpha}\")"
   ]
  },
  {
   "cell_type": "code",
   "execution_count": null,
   "id": "c5716d81",
   "metadata": {},
   "outputs": [],
   "source": [
    "# Evaluate the best model on the test data\n",
    "print(f\"Validation Accuracy with best model: {best_model.score(X_val, y_val)}\")"
   ]
  },
  {
   "cell_type": "code",
   "execution_count": null,
   "id": "aa3a6718",
   "metadata": {},
   "outputs": [],
   "source": [
    "coefficient = best_model.coef_\n",
    "coefficient \n",
    "\n",
    "# with 0.7 just 1 to 0 - BEST\n",
    "# with 0.2 a lot to 0\n",
    "\n",
    "# What's the column to 0?  'education_basic.9y'.... doesn't make sense, would be better to perform a group lasso"
   ]
  },
  {
   "cell_type": "code",
   "execution_count": null,
   "id": "7ac0b65a",
   "metadata": {},
   "outputs": [],
   "source": [
    "# Try with Cross Validation 5 folds\n",
    "\n",
    "# ATTENTION!!!!! VALIDATION SET HERE DOES NOT MAKE SENSE!!!!\n",
    "\n",
    "cv5_scores = cross_val_score(model_logit, X_train_standardized, y_train, cv=5)\n",
    "cv5_scores"
   ]
  },
  {
   "cell_type": "code",
   "execution_count": null,
   "id": "007b8ed5",
   "metadata": {},
   "outputs": [],
   "source": [
    "print(\"The average test score is:\", cv5_scores.mean())\n",
    "print(\"The standard deviation of the test scores is:\", cv5_scores.std()) #good!"
   ]
  },
  {
   "cell_type": "markdown",
   "id": "0169f57d",
   "metadata": {},
   "source": [
    "## KNN"
   ]
  },
  {
   "cell_type": "code",
   "execution_count": 41,
   "id": "732491c6",
   "metadata": {},
   "outputs": [],
   "source": [
    "kn = KNeighborsClassifier().fit(X_train,y_train)"
   ]
  },
  {
   "cell_type": "code",
   "execution_count": 42,
   "id": "c67a84ce",
   "metadata": {},
   "outputs": [],
   "source": [
    "kn_y_pred = kn.predict(X_test)"
   ]
  },
  {
   "cell_type": "code",
   "execution_count": 44,
   "id": "8bc14957",
   "metadata": {},
   "outputs": [
    {
     "name": "stdout",
     "output_type": "stream",
     "text": [
      "Score on training set: 0.921\n",
      "Score on validation set: 0.897\n",
      "Score on test set: 0.892\n"
     ]
    }
   ],
   "source": [
    "print(\"Score on training set: {:.3f}\".format(kn.score(X_train, y_train)))\n",
    "print(\"Score on validation set: {:.3f}\".format(kn.score(X_val, y_val)))\n",
    "print(\"Score on test set: {:.3f}\".format(kn.score(X_test, y_test)))"
   ]
  },
  {
   "cell_type": "code",
   "execution_count": 46,
   "id": "785a2a73",
   "metadata": {},
   "outputs": [
    {
     "data": {
      "text/html": [
       "<style>#sk-container-id-1 {color: black;}#sk-container-id-1 pre{padding: 0;}#sk-container-id-1 div.sk-toggleable {background-color: white;}#sk-container-id-1 label.sk-toggleable__label {cursor: pointer;display: block;width: 100%;margin-bottom: 0;padding: 0.3em;box-sizing: border-box;text-align: center;}#sk-container-id-1 label.sk-toggleable__label-arrow:before {content: \"▸\";float: left;margin-right: 0.25em;color: #696969;}#sk-container-id-1 label.sk-toggleable__label-arrow:hover:before {color: black;}#sk-container-id-1 div.sk-estimator:hover label.sk-toggleable__label-arrow:before {color: black;}#sk-container-id-1 div.sk-toggleable__content {max-height: 0;max-width: 0;overflow: hidden;text-align: left;background-color: #f0f8ff;}#sk-container-id-1 div.sk-toggleable__content pre {margin: 0.2em;color: black;border-radius: 0.25em;background-color: #f0f8ff;}#sk-container-id-1 input.sk-toggleable__control:checked~div.sk-toggleable__content {max-height: 200px;max-width: 100%;overflow: auto;}#sk-container-id-1 input.sk-toggleable__control:checked~label.sk-toggleable__label-arrow:before {content: \"▾\";}#sk-container-id-1 div.sk-estimator input.sk-toggleable__control:checked~label.sk-toggleable__label {background-color: #d4ebff;}#sk-container-id-1 div.sk-label input.sk-toggleable__control:checked~label.sk-toggleable__label {background-color: #d4ebff;}#sk-container-id-1 input.sk-hidden--visually {border: 0;clip: rect(1px 1px 1px 1px);clip: rect(1px, 1px, 1px, 1px);height: 1px;margin: -1px;overflow: hidden;padding: 0;position: absolute;width: 1px;}#sk-container-id-1 div.sk-estimator {font-family: monospace;background-color: #f0f8ff;border: 1px dotted black;border-radius: 0.25em;box-sizing: border-box;margin-bottom: 0.5em;}#sk-container-id-1 div.sk-estimator:hover {background-color: #d4ebff;}#sk-container-id-1 div.sk-parallel-item::after {content: \"\";width: 100%;border-bottom: 1px solid gray;flex-grow: 1;}#sk-container-id-1 div.sk-label:hover label.sk-toggleable__label {background-color: #d4ebff;}#sk-container-id-1 div.sk-serial::before {content: \"\";position: absolute;border-left: 1px solid gray;box-sizing: border-box;top: 0;bottom: 0;left: 50%;z-index: 0;}#sk-container-id-1 div.sk-serial {display: flex;flex-direction: column;align-items: center;background-color: white;padding-right: 0.2em;padding-left: 0.2em;position: relative;}#sk-container-id-1 div.sk-item {position: relative;z-index: 1;}#sk-container-id-1 div.sk-parallel {display: flex;align-items: stretch;justify-content: center;background-color: white;position: relative;}#sk-container-id-1 div.sk-item::before, #sk-container-id-1 div.sk-parallel-item::before {content: \"\";position: absolute;border-left: 1px solid gray;box-sizing: border-box;top: 0;bottom: 0;left: 50%;z-index: -1;}#sk-container-id-1 div.sk-parallel-item {display: flex;flex-direction: column;z-index: 1;position: relative;background-color: white;}#sk-container-id-1 div.sk-parallel-item:first-child::after {align-self: flex-end;width: 50%;}#sk-container-id-1 div.sk-parallel-item:last-child::after {align-self: flex-start;width: 50%;}#sk-container-id-1 div.sk-parallel-item:only-child::after {width: 0;}#sk-container-id-1 div.sk-dashed-wrapped {border: 1px dashed gray;margin: 0 0.4em 0.5em 0.4em;box-sizing: border-box;padding-bottom: 0.4em;background-color: white;}#sk-container-id-1 div.sk-label label {font-family: monospace;font-weight: bold;display: inline-block;line-height: 1.2em;}#sk-container-id-1 div.sk-label-container {text-align: center;}#sk-container-id-1 div.sk-container {/* jupyter's `normalize.less` sets `[hidden] { display: none; }` but bootstrap.min.css set `[hidden] { display: none !important; }` so we also need the `!important` here to be able to override the default hidden behavior on the sphinx rendered scikit-learn.org. See: https://github.com/scikit-learn/scikit-learn/issues/21755 */display: inline-block !important;position: relative;}#sk-container-id-1 div.sk-text-repr-fallback {display: none;}</style><div id=\"sk-container-id-1\" class=\"sk-top-container\"><div class=\"sk-text-repr-fallback\"><pre>KNeighborsClassifier(n_neighbors=131)</pre><b>In a Jupyter environment, please rerun this cell to show the HTML representation or trust the notebook. <br />On GitHub, the HTML representation is unable to render, please try loading this page with nbviewer.org.</b></div><div class=\"sk-container\" hidden><div class=\"sk-item\"><div class=\"sk-estimator sk-toggleable\"><input class=\"sk-toggleable__control sk-hidden--visually\" id=\"sk-estimator-id-1\" type=\"checkbox\" checked><label for=\"sk-estimator-id-1\" class=\"sk-toggleable__label sk-toggleable__label-arrow\">KNeighborsClassifier</label><div class=\"sk-toggleable__content\"><pre>KNeighborsClassifier(n_neighbors=131)</pre></div></div></div></div></div>"
      ],
      "text/plain": [
       "KNeighborsClassifier(n_neighbors=131)"
      ]
     },
     "execution_count": 46,
     "metadata": {},
     "output_type": "execute_result"
    }
   ],
   "source": [
    "# The rule of thumb is sqrt(n)\n",
    "import math \n",
    "\n",
    "k = math.ceil(math.sqrt(X_train.shape[0])) # odd number\n",
    "#163\n",
    "\n",
    "kn = KNeighborsClassifier(n_neighbors=k)  \n",
    "kn.fit(X_train,y_train)"
   ]
  },
  {
   "cell_type": "code",
   "execution_count": 47,
   "id": "f1bf1811",
   "metadata": {},
   "outputs": [
    {
     "name": "stdout",
     "output_type": "stream",
     "text": [
      "Score on training set: 0.900\n",
      "Score on validation set: 0.902\n",
      "Score on test set: 0.903\n"
     ]
    }
   ],
   "source": [
    "print(\"Score on training set: {:.3f}\".format(kn.score(X_train, y_train)))\n",
    "print(\"Score on validation set: {:.3f}\".format(kn.score(X_val, y_val)))\n",
    "print(\"Score on test set: {:.3f}\".format(kn.score(X_test, y_test)))"
   ]
  },
  {
   "cell_type": "markdown",
   "id": "9edf09fd",
   "metadata": {},
   "source": [
    "## Decision Tree"
   ]
  },
  {
   "cell_type": "code",
   "execution_count": 49,
   "id": "1735df28",
   "metadata": {},
   "outputs": [],
   "source": [
    "from sklearn import tree"
   ]
  },
  {
   "cell_type": "code",
   "execution_count": 52,
   "id": "751c7490",
   "metadata": {},
   "outputs": [
    {
     "ename": "ValueError",
     "evalue": "Found input variables with inconsistent numbers of samples: [7620, 17143]",
     "output_type": "error",
     "traceback": [
      "\u001b[1;31m---------------------------------------------------------------------------\u001b[0m",
      "\u001b[1;31mValueError\u001b[0m                                Traceback (most recent call last)",
      "\u001b[1;32m~\\AppData\\Local\\Temp/ipykernel_7484/76785009.py\u001b[0m in \u001b[0;36m<module>\u001b[1;34m\u001b[0m\n\u001b[0;32m      1\u001b[0m \u001b[0mdtree\u001b[0m \u001b[1;33m=\u001b[0m \u001b[0mtree\u001b[0m\u001b[1;33m.\u001b[0m\u001b[0mDecisionTreeClassifier\u001b[0m\u001b[1;33m(\u001b[0m\u001b[0mmax_depth\u001b[0m\u001b[1;33m=\u001b[0m\u001b[1;36m3\u001b[0m\u001b[1;33m)\u001b[0m\u001b[1;33m\u001b[0m\u001b[1;33m\u001b[0m\u001b[0m\n\u001b[0;32m      2\u001b[0m \u001b[0mdtree\u001b[0m\u001b[1;33m.\u001b[0m\u001b[0mfit\u001b[0m\u001b[1;33m(\u001b[0m\u001b[0mX_train\u001b[0m\u001b[1;33m,\u001b[0m \u001b[0my_train\u001b[0m\u001b[1;33m)\u001b[0m\u001b[1;33m\u001b[0m\u001b[1;33m\u001b[0m\u001b[0m\n\u001b[1;32m----> 3\u001b[1;33m \u001b[0mprint\u001b[0m\u001b[1;33m(\u001b[0m\u001b[1;34m\"Score on training set: {:.3f}\"\u001b[0m\u001b[1;33m.\u001b[0m\u001b[0mformat\u001b[0m\u001b[1;33m(\u001b[0m\u001b[0mdtree\u001b[0m\u001b[1;33m.\u001b[0m\u001b[0mscore\u001b[0m\u001b[1;33m(\u001b[0m\u001b[0mX_train\u001b[0m\u001b[1;33m,\u001b[0m \u001b[0my_test\u001b[0m\u001b[1;33m)\u001b[0m\u001b[1;33m)\u001b[0m\u001b[1;33m)\u001b[0m\u001b[1;33m\u001b[0m\u001b[1;33m\u001b[0m\u001b[0m\n\u001b[0m\u001b[0;32m      4\u001b[0m \u001b[0mprint\u001b[0m\u001b[1;33m(\u001b[0m\u001b[1;34m\"Score on validation set: {:.3f}\"\u001b[0m\u001b[1;33m.\u001b[0m\u001b[0mformat\u001b[0m\u001b[1;33m(\u001b[0m\u001b[0mdtree\u001b[0m\u001b[1;33m.\u001b[0m\u001b[0mscore\u001b[0m\u001b[1;33m(\u001b[0m\u001b[0mX_val\u001b[0m\u001b[1;33m,\u001b[0m \u001b[0my_val\u001b[0m\u001b[1;33m)\u001b[0m\u001b[1;33m)\u001b[0m\u001b[1;33m)\u001b[0m\u001b[1;33m\u001b[0m\u001b[1;33m\u001b[0m\u001b[0m\n\u001b[0;32m      5\u001b[0m \u001b[0mprint\u001b[0m\u001b[1;33m(\u001b[0m\u001b[1;34m\"Score on test set: {:.3f}\"\u001b[0m\u001b[1;33m.\u001b[0m\u001b[0mformat\u001b[0m\u001b[1;33m(\u001b[0m\u001b[0mdtree\u001b[0m\u001b[1;33m.\u001b[0m\u001b[0mscore\u001b[0m\u001b[1;33m(\u001b[0m\u001b[0mX_test\u001b[0m\u001b[1;33m,\u001b[0m \u001b[0my_test\u001b[0m\u001b[1;33m)\u001b[0m\u001b[1;33m)\u001b[0m\u001b[1;33m)\u001b[0m\u001b[1;33m\u001b[0m\u001b[1;33m\u001b[0m\u001b[0m\n",
      "\u001b[1;32m~\\anaconda3\\lib\\site-packages\\sklearn\\base.py\u001b[0m in \u001b[0;36mscore\u001b[1;34m(self, X, y, sample_weight)\u001b[0m\n\u001b[0;32m    704\u001b[0m         \u001b[1;32mfrom\u001b[0m \u001b[1;33m.\u001b[0m\u001b[0mmetrics\u001b[0m \u001b[1;32mimport\u001b[0m \u001b[0maccuracy_score\u001b[0m\u001b[1;33m\u001b[0m\u001b[1;33m\u001b[0m\u001b[0m\n\u001b[0;32m    705\u001b[0m \u001b[1;33m\u001b[0m\u001b[0m\n\u001b[1;32m--> 706\u001b[1;33m         \u001b[1;32mreturn\u001b[0m \u001b[0maccuracy_score\u001b[0m\u001b[1;33m(\u001b[0m\u001b[0my\u001b[0m\u001b[1;33m,\u001b[0m \u001b[0mself\u001b[0m\u001b[1;33m.\u001b[0m\u001b[0mpredict\u001b[0m\u001b[1;33m(\u001b[0m\u001b[0mX\u001b[0m\u001b[1;33m)\u001b[0m\u001b[1;33m,\u001b[0m \u001b[0msample_weight\u001b[0m\u001b[1;33m=\u001b[0m\u001b[0msample_weight\u001b[0m\u001b[1;33m)\u001b[0m\u001b[1;33m\u001b[0m\u001b[1;33m\u001b[0m\u001b[0m\n\u001b[0m\u001b[0;32m    707\u001b[0m \u001b[1;33m\u001b[0m\u001b[0m\n\u001b[0;32m    708\u001b[0m     \u001b[1;32mdef\u001b[0m \u001b[0m_more_tags\u001b[0m\u001b[1;33m(\u001b[0m\u001b[0mself\u001b[0m\u001b[1;33m)\u001b[0m\u001b[1;33m:\u001b[0m\u001b[1;33m\u001b[0m\u001b[1;33m\u001b[0m\u001b[0m\n",
      "\u001b[1;32m~\\anaconda3\\lib\\site-packages\\sklearn\\utils\\_param_validation.py\u001b[0m in \u001b[0;36mwrapper\u001b[1;34m(*args, **kwargs)\u001b[0m\n\u001b[0;32m    212\u001b[0m                     )\n\u001b[0;32m    213\u001b[0m                 ):\n\u001b[1;32m--> 214\u001b[1;33m                     \u001b[1;32mreturn\u001b[0m \u001b[0mfunc\u001b[0m\u001b[1;33m(\u001b[0m\u001b[1;33m*\u001b[0m\u001b[0margs\u001b[0m\u001b[1;33m,\u001b[0m \u001b[1;33m**\u001b[0m\u001b[0mkwargs\u001b[0m\u001b[1;33m)\u001b[0m\u001b[1;33m\u001b[0m\u001b[1;33m\u001b[0m\u001b[0m\n\u001b[0m\u001b[0;32m    215\u001b[0m             \u001b[1;32mexcept\u001b[0m \u001b[0mInvalidParameterError\u001b[0m \u001b[1;32mas\u001b[0m \u001b[0me\u001b[0m\u001b[1;33m:\u001b[0m\u001b[1;33m\u001b[0m\u001b[1;33m\u001b[0m\u001b[0m\n\u001b[0;32m    216\u001b[0m                 \u001b[1;31m# When the function is just a wrapper around an estimator, we allow\u001b[0m\u001b[1;33m\u001b[0m\u001b[1;33m\u001b[0m\u001b[0m\n",
      "\u001b[1;32m~\\anaconda3\\lib\\site-packages\\sklearn\\metrics\\_classification.py\u001b[0m in \u001b[0;36maccuracy_score\u001b[1;34m(y_true, y_pred, normalize, sample_weight)\u001b[0m\n\u001b[0;32m    218\u001b[0m \u001b[1;33m\u001b[0m\u001b[0m\n\u001b[0;32m    219\u001b[0m     \u001b[1;31m# Compute accuracy for each possible representation\u001b[0m\u001b[1;33m\u001b[0m\u001b[1;33m\u001b[0m\u001b[0m\n\u001b[1;32m--> 220\u001b[1;33m     \u001b[0my_type\u001b[0m\u001b[1;33m,\u001b[0m \u001b[0my_true\u001b[0m\u001b[1;33m,\u001b[0m \u001b[0my_pred\u001b[0m \u001b[1;33m=\u001b[0m \u001b[0m_check_targets\u001b[0m\u001b[1;33m(\u001b[0m\u001b[0my_true\u001b[0m\u001b[1;33m,\u001b[0m \u001b[0my_pred\u001b[0m\u001b[1;33m)\u001b[0m\u001b[1;33m\u001b[0m\u001b[1;33m\u001b[0m\u001b[0m\n\u001b[0m\u001b[0;32m    221\u001b[0m     \u001b[0mcheck_consistent_length\u001b[0m\u001b[1;33m(\u001b[0m\u001b[0my_true\u001b[0m\u001b[1;33m,\u001b[0m \u001b[0my_pred\u001b[0m\u001b[1;33m,\u001b[0m \u001b[0msample_weight\u001b[0m\u001b[1;33m)\u001b[0m\u001b[1;33m\u001b[0m\u001b[1;33m\u001b[0m\u001b[0m\n\u001b[0;32m    222\u001b[0m     \u001b[1;32mif\u001b[0m \u001b[0my_type\u001b[0m\u001b[1;33m.\u001b[0m\u001b[0mstartswith\u001b[0m\u001b[1;33m(\u001b[0m\u001b[1;34m\"multilabel\"\u001b[0m\u001b[1;33m)\u001b[0m\u001b[1;33m:\u001b[0m\u001b[1;33m\u001b[0m\u001b[1;33m\u001b[0m\u001b[0m\n",
      "\u001b[1;32m~\\anaconda3\\lib\\site-packages\\sklearn\\metrics\\_classification.py\u001b[0m in \u001b[0;36m_check_targets\u001b[1;34m(y_true, y_pred)\u001b[0m\n\u001b[0;32m     82\u001b[0m     \u001b[0my_pred\u001b[0m \u001b[1;33m:\u001b[0m \u001b[0marray\u001b[0m \u001b[1;32mor\u001b[0m \u001b[0mindicator\u001b[0m \u001b[0mmatrix\u001b[0m\u001b[1;33m\u001b[0m\u001b[1;33m\u001b[0m\u001b[0m\n\u001b[0;32m     83\u001b[0m     \"\"\"\n\u001b[1;32m---> 84\u001b[1;33m     \u001b[0mcheck_consistent_length\u001b[0m\u001b[1;33m(\u001b[0m\u001b[0my_true\u001b[0m\u001b[1;33m,\u001b[0m \u001b[0my_pred\u001b[0m\u001b[1;33m)\u001b[0m\u001b[1;33m\u001b[0m\u001b[1;33m\u001b[0m\u001b[0m\n\u001b[0m\u001b[0;32m     85\u001b[0m     \u001b[0mtype_true\u001b[0m \u001b[1;33m=\u001b[0m \u001b[0mtype_of_target\u001b[0m\u001b[1;33m(\u001b[0m\u001b[0my_true\u001b[0m\u001b[1;33m,\u001b[0m \u001b[0minput_name\u001b[0m\u001b[1;33m=\u001b[0m\u001b[1;34m\"y_true\"\u001b[0m\u001b[1;33m)\u001b[0m\u001b[1;33m\u001b[0m\u001b[1;33m\u001b[0m\u001b[0m\n\u001b[0;32m     86\u001b[0m     \u001b[0mtype_pred\u001b[0m \u001b[1;33m=\u001b[0m \u001b[0mtype_of_target\u001b[0m\u001b[1;33m(\u001b[0m\u001b[0my_pred\u001b[0m\u001b[1;33m,\u001b[0m \u001b[0minput_name\u001b[0m\u001b[1;33m=\u001b[0m\u001b[1;34m\"y_pred\"\u001b[0m\u001b[1;33m)\u001b[0m\u001b[1;33m\u001b[0m\u001b[1;33m\u001b[0m\u001b[0m\n",
      "\u001b[1;32m~\\anaconda3\\lib\\site-packages\\sklearn\\utils\\validation.py\u001b[0m in \u001b[0;36mcheck_consistent_length\u001b[1;34m(*arrays)\u001b[0m\n\u001b[0;32m    405\u001b[0m     \u001b[0muniques\u001b[0m \u001b[1;33m=\u001b[0m \u001b[0mnp\u001b[0m\u001b[1;33m.\u001b[0m\u001b[0munique\u001b[0m\u001b[1;33m(\u001b[0m\u001b[0mlengths\u001b[0m\u001b[1;33m)\u001b[0m\u001b[1;33m\u001b[0m\u001b[1;33m\u001b[0m\u001b[0m\n\u001b[0;32m    406\u001b[0m     \u001b[1;32mif\u001b[0m \u001b[0mlen\u001b[0m\u001b[1;33m(\u001b[0m\u001b[0muniques\u001b[0m\u001b[1;33m)\u001b[0m \u001b[1;33m>\u001b[0m \u001b[1;36m1\u001b[0m\u001b[1;33m:\u001b[0m\u001b[1;33m\u001b[0m\u001b[1;33m\u001b[0m\u001b[0m\n\u001b[1;32m--> 407\u001b[1;33m         raise ValueError(\n\u001b[0m\u001b[0;32m    408\u001b[0m             \u001b[1;34m\"Found input variables with inconsistent numbers of samples: %r\"\u001b[0m\u001b[1;33m\u001b[0m\u001b[1;33m\u001b[0m\u001b[0m\n\u001b[0;32m    409\u001b[0m             \u001b[1;33m%\u001b[0m \u001b[1;33m[\u001b[0m\u001b[0mint\u001b[0m\u001b[1;33m(\u001b[0m\u001b[0ml\u001b[0m\u001b[1;33m)\u001b[0m \u001b[1;32mfor\u001b[0m \u001b[0ml\u001b[0m \u001b[1;32min\u001b[0m \u001b[0mlengths\u001b[0m\u001b[1;33m]\u001b[0m\u001b[1;33m\u001b[0m\u001b[1;33m\u001b[0m\u001b[0m\n",
      "\u001b[1;31mValueError\u001b[0m: Found input variables with inconsistent numbers of samples: [7620, 17143]"
     ]
    }
   ],
   "source": [
    "# doesnt compute \n",
    "dtree = tree.DecisionTreeClassifier(max_depth=3).fit(X_train, y_train)\n",
    "print(\"Score on training set: {:.3f}\".format(dtree.score(X_train, y_test)))\n",
    "print(\"Score on validation set: {:.3f}\".format(dtree.score(X_val, y_val)))\n",
    "print(\"Score on test set: {:.3f}\".format(dtree.score(X_test, y_test)))"
   ]
  },
  {
   "cell_type": "markdown",
   "id": "8240242d",
   "metadata": {},
   "source": [
    "## Random Forest"
   ]
  },
  {
   "cell_type": "code",
   "execution_count": 56,
   "id": "aaf0960a",
   "metadata": {},
   "outputs": [
    {
     "name": "stdout",
     "output_type": "stream",
     "text": [
      "Accuracy on training set: 0.937\n",
      "Accuracy on validation set: 0.903\n",
      "Accuracy on test set: 0.899\n"
     ]
    }
   ],
   "source": [
    "# implement a random forest classifier here\n",
    "rf = RandomForestClassifier(max_depth=10)\n",
    "rf.fit(X_train, y_train)\n",
    "rf_y_pred = rf.predict(X_test)\n",
    "print(\"Accuracy on training set: {:.3f}\".format(rf.score(X_train, y_train)))\n",
    "print(\"Accuracy on validation set: {:.3f}\".format(rf.score(X_val, y_val)))\n",
    "print(\"Accuracy on test set: {:.3f}\".format(rf.score(X_test, y_test)))"
   ]
  },
  {
   "cell_type": "code",
   "execution_count": 57,
   "id": "9ba094bf",
   "metadata": {},
   "outputs": [
    {
     "name": "stdout",
     "output_type": "stream",
     "text": [
      "              precision    recall  f1-score   support\n",
      "\n",
      "           0       0.91      0.98      0.94      6636\n",
      "           1       0.70      0.39      0.50       984\n",
      "\n",
      "    accuracy                           0.90      7620\n",
      "   macro avg       0.81      0.68      0.72      7620\n",
      "weighted avg       0.89      0.90      0.89      7620\n",
      "\n"
     ]
    }
   ],
   "source": [
    "# print the random forest classification report here\n",
    "print(classification_report(y_test, rf_y_pred))"
   ]
  },
  {
   "cell_type": "markdown",
   "id": "98d3d3f1",
   "metadata": {},
   "source": [
    "## Confusion Matrix"
   ]
  },
  {
   "cell_type": "code",
   "execution_count": 59,
   "id": "ed9c8663",
   "metadata": {},
   "outputs": [
    {
     "name": "stdout",
     "output_type": "stream",
     "text": [
      "Accuracy on training set: 0.872\n",
      "Accuracy on test set: 0.871\n",
      "[[6636    0]\n",
      " [ 984    0]]\n"
     ]
    }
   ],
   "source": [
    "dm = DummyClassifier()\n",
    "dm.fit(X_train, y_train)\n",
    "dm_y_pred = dm.predict(X_test)\n",
    "\n",
    "print(\"Accuracy on training set: {:.3f}\".format(dm.score(X_train, y_train)))\n",
    "print(\"Accuracy on test set: {:.3f}\".format(dm.score(X_test, y_test)))\n",
    "\n",
    "cm = confusion_matrix(y_test, dm_y_pred)\n",
    "print(cm)"
   ]
  },
  {
   "cell_type": "code",
   "execution_count": 60,
   "id": "336cdbf5",
   "metadata": {},
   "outputs": [
    {
     "data": {
      "image/png": "[encoded data removed]",
      "text/plain": [
       "<Figure size 432x288 with 2 Axes>"
      ]
     },
     "metadata": {
      "needs_background": "light"
     },
     "output_type": "display_data"
    }
   ],
   "source": [
    "disp = ConfusionMatrixDisplay(confusion_matrix=cm,\n",
    "                               display_labels=dm.classes_)\n",
    "disp.plot()\n",
    "plt.show()"
   ]
  },
  {
   "cell_type": "markdown",
   "id": "f26e350a",
   "metadata": {},
   "source": [
    "## Fairness"
   ]
  },
  {
   "cell_type": "code",
   "execution_count": 66,
   "id": "26330959",
   "metadata": {},
   "outputs": [],
   "source": [
    "from sklearn.metrics import classification_report, roc_curve, auc"
   ]
  },
  {
   "cell_type": "code",
   "execution_count": 61,
   "id": "afc4308b",
   "metadata": {},
   "outputs": [],
   "source": [
    "# for fairness assessment\n",
    "from fairlearn.metrics import MetricFrame, true_positive_rate, false_positive_rate, selection_rate, equalized_odds_difference, demographic_parity_difference, selection_rate\n",
    "\n",
    "# for mitigation\n",
    "from fairlearn.postprocessing import ThresholdOptimizer, plot_threshold_optimizer"
   ]
  },
  {
   "cell_type": "code",
   "execution_count": 67,
   "id": "3d44a58c",
   "metadata": {},
   "outputs": [
    {
     "data": {
      "image/png": "[encoded data removed]",
      "text/plain": [
       "<Figure size 576x432 with 1 Axes>"
      ]
     },
     "metadata": {
      "needs_background": "light"
     },
     "output_type": "display_data"
    }
   ],
   "source": [
    "# Step 1: Compute the predicted probabilities for the positive class\n",
    "y_prob = rf.predict_proba(X_test)[:,1]\n",
    "\n",
    "# Step 2: Compute FPR, TPR, and thresholds\n",
    "fpr, tpr, thresholds = roc_curve(y_test, y_prob)\n",
    "\n",
    "# Step 3: Compute the AUC\n",
    "roc_auc = auc(fpr, tpr)\n",
    "\n",
    "# Step 4: Plot the ROC curve\n",
    "plt.figure(figsize=(8, 6))\n",
    "plt.plot(fpr, tpr, color='darkorange', lw=2, label='ROC curve (AUC = %0.2f)' % roc_auc)\n",
    "plt.plot([0, 1], [0, 1], color='navy', lw=2, linestyle='--') # diagonal line\n",
    "plt.xlim([0.0, 1.0])\n",
    "plt.ylim([0.0, 1.05])\n",
    "plt.xlabel('False Positive Rate')\n",
    "plt.ylabel('True Positive Rate')\n",
    "plt.title('Receiver Operating Characteristic (ROC) Curve')\n",
    "plt.legend(loc='lower right')\n",
    "plt.show()"
   ]
  },
  {
   "cell_type": "code",
   "execution_count": 69,
   "id": "7b5fb833",
   "metadata": {},
   "outputs": [
    {
     "data": {
      "image/png": "[encoded data removed]",
      "text/plain": [
       "<Figure size 720x1123.2 with 1 Axes>"
      ]
     },
     "metadata": {
      "needs_background": "light"
     },
     "output_type": "display_data"
    }
   ],
   "source": [
    "# extract feature importances\n",
    "importances = rf.feature_importances_\n",
    "\n",
    "# pair each feature with its importance\n",
    "features = X_test.columns \n",
    "feature_importance = sorted(zip(importances, features), reverse=True)\n",
    "\n",
    "# extracting sorted importance values and their corresponding labels for plotting\n",
    "sorted_importances = [value[0] for value in feature_importance]\n",
    "sorted_features = [value[1] for value in feature_importance]\n",
    "\n",
    "# plot the features and their importance\n",
    "plt.figure(figsize=(10, len(sorted_features) * 0.4)) # adjusting the figure height based on number of features\n",
    "plt.barh(sorted_features, sorted_importances)\n",
    "plt.xlabel('Importance')\n",
    "plt.ylabel('Feature')\n",
    "plt.title('Feature Importance from RandomForest')\n",
    "plt.gca().invert_yaxis() # to display the feature with the highest importance at the top\n",
    "plt.show()"
   ]
  },
  {
   "cell_type": "code",
   "execution_count": 72,
   "id": "fc2759dd",
   "metadata": {},
   "outputs": [
    {
     "name": "stdout",
     "output_type": "stream",
     "text": [
      "     selection_rate       TPR       FPR\n",
      "age                                    \n",
      "17         0.000000  0.000000  0.000000\n",
      "18         0.400000  0.500000  0.333333\n",
      "19         0.000000  0.000000  0.000000\n",
      "20         0.357143  0.428571  0.285714\n",
      "21         0.142857  0.400000  0.062500\n",
      "..              ...       ...       ...\n",
      "84         1.000000  1.000000  0.000000\n",
      "85         0.000000  0.000000  0.000000\n",
      "87         0.000000  0.000000  0.000000\n",
      "88         0.285714  0.400000  0.000000\n",
      "91         0.000000  0.000000  0.000000\n",
      "\n",
      "[72 rows x 3 columns]\n"
     ]
    }
   ],
   "source": [
    "# create a MetricFrame to compute metrics across groups\n",
    "metrics = MetricFrame(metrics={\n",
    "    'selection_rate': selection_rate,\n",
    "    'TPR': true_positive_rate, \n",
    "    'FPR': false_positive_rate},\n",
    "    y_true=y_test,y_pred=rf_y_pred,\n",
    "    sensitive_features=X_test['age'])\n",
    "\n",
    "# Print the results\n",
    "print(metrics.by_group)"
   ]
  },
  {
   "cell_type": "code",
   "execution_count": 73,
   "id": "ab31164c",
   "metadata": {},
   "outputs": [
    {
     "name": "stdout",
     "output_type": "stream",
     "text": [
      "Demographic Parity Difference: 1.00\n"
     ]
    }
   ],
   "source": [
    "# Compute the demographic parity difference\n",
    "dpd = demographic_parity_difference(y_test, rf_y_pred, sensitive_features=X_test[\"age\"])\n",
    "print(f\"Demographic Parity Difference: {dpd:.2f}\")"
   ]
  },
  {
   "cell_type": "code",
   "execution_count": 74,
   "id": "1669c5d0",
   "metadata": {},
   "outputs": [
    {
     "name": "stdout",
     "output_type": "stream",
     "text": [
      "Equalized Odds Difference: 1.00\n"
     ]
    }
   ],
   "source": [
    "# Compute the equalized odds difference\n",
    "eod = equalized_odds_difference(y_test, rf_y_pred, sensitive_features=X_test[\"age\"])\n",
    "print(f\"Equalized Odds Difference: {eod:.2f}\")"
   ]
  },
  {
   "cell_type": "code",
   "execution_count": 76,
   "id": "ee6c6dcd",
   "metadata": {},
   "outputs": [
    {
     "ename": "ValueError",
     "evalue": "Degenerate labels for sensitive feature value 17",
     "output_type": "error",
     "traceback": [
      "\u001b[1;31m---------------------------------------------------------------------------\u001b[0m",
      "\u001b[1;31mValueError\u001b[0m                                Traceback (most recent call last)",
      "\u001b[1;32m~\\AppData\\Local\\Temp/ipykernel_7484/1567741256.py\u001b[0m in \u001b[0;36m<module>\u001b[1;34m\u001b[0m\n\u001b[0;32m      8\u001b[0m \u001b[1;33m\u001b[0m\u001b[0m\n\u001b[0;32m      9\u001b[0m \u001b[1;31m# Fit the post-processor\u001b[0m\u001b[1;33m\u001b[0m\u001b[1;33m\u001b[0m\u001b[0m\n\u001b[1;32m---> 10\u001b[1;33m \u001b[0mpostprocessor\u001b[0m\u001b[1;33m.\u001b[0m\u001b[0mfit\u001b[0m\u001b[1;33m(\u001b[0m\u001b[0mX_test\u001b[0m\u001b[1;33m,\u001b[0m \u001b[0my_test\u001b[0m\u001b[1;33m,\u001b[0m \u001b[0msensitive_features\u001b[0m\u001b[1;33m=\u001b[0m\u001b[0mX_test\u001b[0m\u001b[1;33m[\u001b[0m\u001b[1;34m'age'\u001b[0m\u001b[1;33m]\u001b[0m\u001b[1;33m)\u001b[0m\u001b[1;33m\u001b[0m\u001b[1;33m\u001b[0m\u001b[0m\n\u001b[0m\u001b[0;32m     11\u001b[0m \u001b[1;33m\u001b[0m\u001b[0m\n\u001b[0;32m     12\u001b[0m \u001b[1;31m# Predict using the mitigated model\u001b[0m\u001b[1;33m\u001b[0m\u001b[1;33m\u001b[0m\u001b[0m\n",
      "\u001b[1;32m~\\anaconda3\\lib\\site-packages\\fairlearn\\postprocessing\\_threshold_optimizer.py\u001b[0m in \u001b[0;36mfit\u001b[1;34m(self, X, y, sensitive_features, **kwargs)\u001b[0m\n\u001b[0;32m    346\u001b[0m             )\n\u001b[0;32m    347\u001b[0m \u001b[1;33m\u001b[0m\u001b[0m\n\u001b[1;32m--> 348\u001b[1;33m         self.interpolated_thresholder_ = threshold_optimization_method(\n\u001b[0m\u001b[0;32m    349\u001b[0m             \u001b[0msensitive_feature_vector\u001b[0m\u001b[1;33m,\u001b[0m \u001b[0my\u001b[0m\u001b[1;33m,\u001b[0m \u001b[0mscores\u001b[0m\u001b[1;33m\u001b[0m\u001b[1;33m\u001b[0m\u001b[0m\n\u001b[0;32m    350\u001b[0m         )\n",
      "\u001b[1;32m~\\anaconda3\\lib\\site-packages\\fairlearn\\postprocessing\\_threshold_optimizer.py\u001b[0m in \u001b[0;36m_threshold_optimization_for_equalized_odds\u001b[1;34m(self, sensitive_features, labels, scores)\u001b[0m\n\u001b[0;32m    552\u001b[0m             \u001b[0mgroup\u001b[0m\u001b[1;33m,\u001b[0m\u001b[1;33m\u001b[0m\u001b[1;33m\u001b[0m\u001b[0m\n\u001b[0;32m    553\u001b[0m         ) in data_grouped_by_sensitive_feature:\n\u001b[1;32m--> 554\u001b[1;33m             roc_convex_hull = _tradeoff_curve(\n\u001b[0m\u001b[0;32m    555\u001b[0m                 \u001b[0mgroup\u001b[0m\u001b[1;33m,\u001b[0m \u001b[0msensitive_feature_value\u001b[0m\u001b[1;33m,\u001b[0m \u001b[0mflip\u001b[0m\u001b[1;33m=\u001b[0m\u001b[0mself\u001b[0m\u001b[1;33m.\u001b[0m\u001b[0mflip\u001b[0m\u001b[1;33m\u001b[0m\u001b[1;33m\u001b[0m\u001b[0m\n\u001b[0;32m    556\u001b[0m             )\n",
      "\u001b[1;32m~\\anaconda3\\lib\\site-packages\\fairlearn\\postprocessing\\_tradeoff_curve_utilities.py\u001b[0m in \u001b[0;36m_tradeoff_curve\u001b[1;34m(data, sensitive_feature_value, flip, x_metric, y_metric)\u001b[0m\n\u001b[0;32m     94\u001b[0m         \u001b[1;34m'x'\u001b[0m\u001b[1;33m,\u001b[0m \u001b[1;34m'y'\u001b[0m\u001b[1;33m,\u001b[0m \u001b[1;32mand\u001b[0m \u001b[1;34m'operation'\u001b[0m\u001b[1;33m.\u001b[0m\u001b[1;33m\u001b[0m\u001b[1;33m\u001b[0m\u001b[0m\n\u001b[0;32m     95\u001b[0m     \"\"\"\n\u001b[1;32m---> 96\u001b[1;33m     points_sorted = _calculate_tradeoff_points(\n\u001b[0m\u001b[0;32m     97\u001b[0m         \u001b[0mdata\u001b[0m\u001b[1;33m,\u001b[0m \u001b[0msensitive_feature_value\u001b[0m\u001b[1;33m,\u001b[0m \u001b[0mflip\u001b[0m\u001b[1;33m=\u001b[0m\u001b[0mflip\u001b[0m\u001b[1;33m,\u001b[0m \u001b[0mx_metric\u001b[0m\u001b[1;33m=\u001b[0m\u001b[0mx_metric\u001b[0m\u001b[1;33m,\u001b[0m \u001b[0my_metric\u001b[0m\u001b[1;33m=\u001b[0m\u001b[0my_metric\u001b[0m\u001b[1;33m\u001b[0m\u001b[1;33m\u001b[0m\u001b[0m\n\u001b[0;32m     98\u001b[0m     )\n",
      "\u001b[1;32m~\\anaconda3\\lib\\site-packages\\fairlearn\\postprocessing\\_tradeoff_curve_utilities.py\u001b[0m in \u001b[0;36m_calculate_tradeoff_points\u001b[1;34m(data, sensitive_feature_value, flip, x_metric, y_metric)\u001b[0m\n\u001b[0;32m    231\u001b[0m \u001b[1;33m\u001b[0m\u001b[0m\n\u001b[0;32m    232\u001b[0m     \u001b[1;32mif\u001b[0m \u001b[0mn_positive\u001b[0m \u001b[1;33m==\u001b[0m \u001b[1;36m0\u001b[0m \u001b[1;32mor\u001b[0m \u001b[0mn_negative\u001b[0m \u001b[1;33m==\u001b[0m \u001b[1;36m0\u001b[0m\u001b[1;33m:\u001b[0m\u001b[1;33m\u001b[0m\u001b[1;33m\u001b[0m\u001b[0m\n\u001b[1;32m--> 233\u001b[1;33m         raise ValueError(\n\u001b[0m\u001b[0;32m    234\u001b[0m             \u001b[0mDEGENERATE_LABELS_ERROR_MESSAGE\u001b[0m\u001b[1;33m.\u001b[0m\u001b[0mformat\u001b[0m\u001b[1;33m(\u001b[0m\u001b[0msensitive_feature_value\u001b[0m\u001b[1;33m)\u001b[0m\u001b[1;33m\u001b[0m\u001b[1;33m\u001b[0m\u001b[0m\n\u001b[0;32m    235\u001b[0m         )\n",
      "\u001b[1;31mValueError\u001b[0m: Degenerate labels for sensitive feature value 17"
     ]
    }
   ],
   "source": [
    "# Instantiate the equalized odds post-processor\n",
    "postprocessor = ThresholdOptimizer(\n",
    "    estimator=rf,\n",
    "    constraints=\"equalized_odds\",\n",
    "    predict_method='auto',\n",
    "    prefit=True\n",
    ")\n",
    "\n",
    "# Fit the post-processor\n",
    "postprocessor.fit(X_test, y_test, sensitive_features=X_test['age'])\n",
    "\n",
    "# Predict using the mitigated model\n",
    "y_pred_mitigated = postprocessor.predict(X_test, sensitive_features=X_test['age'])"
   ]
  }
 ],
 "metadata": {
  "kernelspec": {
   "display_name": "Python 3 (ipykernel)",
   "language": "python",
   "name": "python3"
  },
  "language_info": {
   "codemirror_mode": {
    "name": "ipython",
    "version": 3
   },
   "file_extension": ".py",
   "mimetype": "text/x-python",
   "name": "python",
   "nbconvert_exporter": "python",
   "pygments_lexer": "ipython3",
   "version": "3.9.7"
  }
 },
 "nbformat": 4,
 "nbformat_minor": 5
}
